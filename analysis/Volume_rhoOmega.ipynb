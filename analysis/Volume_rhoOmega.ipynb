{
 "cells": [
  {
   "cell_type": "code",
   "execution_count": 3,
   "metadata": {},
   "outputs": [],
   "source": [
    "import numpy as np\n",
    "import matplotlib.pyplot as plt\n",
    "import os\n",
    "import pandas as pd\n",
    "import glob"
   ]
  },
  {
   "cell_type": "markdown",
   "metadata": {},
   "source": [
    "## CST, alpha=.01, dt=1, distribution of final omega"
   ]
  },
  {
   "cell_type": "code",
   "execution_count": 11,
   "metadata": {},
   "outputs": [
    {
     "data": {
      "text/plain": [
       "(5252,)"
      ]
     },
     "execution_count": 11,
     "metadata": {},
     "output_type": "execute_result"
    }
   ],
   "source": [
    "directory = '/rds/general/user/sdas5/home/EverpresentLambda/CST_Runs/CST_alpha_0.01_time_1/'\n",
    "to_search = directory+'N_History_*.d'\n",
    "files = glob.glob(to_search)\n",
    "np.shape(files)"
   ]
  },
  {
   "cell_type": "code",
   "execution_count": 14,
   "metadata": {},
   "outputs": [],
   "source": [
    "to_search = directory+'History_*.d'\n",
    "files = glob.glob(to_search)"
   ]
  },
  {
   "cell_type": "code",
   "execution_count": 65,
   "metadata": {},
   "outputs": [],
   "source": [
    "lst = np.power(10,np.arange(5,12.2,.5,dtype=float))"
   ]
  },
  {
   "cell_type": "code",
   "execution_count": 104,
   "metadata": {},
   "outputs": [
    {
     "name": "stdout",
     "output_type": "stream",
     "text": [
      "1 15\n",
      "2 15\n",
      "3 15\n",
      "4 15\n",
      "5 15\n",
      "6 15\n",
      "7 15\n",
      "8 15\n",
      "9 15\n",
      "10 15\n",
      "11 15\n",
      "12 15\n",
      "13 15\n",
      "14 15\n",
      "15 15\n",
      "Here: 15\n"
     ]
    }
   ],
   "source": [
    "data = np.loadtxt(files[3])\n",
    "k=0   # File Index\n",
    "j=0\n",
    "\n",
    "s=np.zeros((np.shape(files)[0],np.shape(lst)[0]))\n",
    "for i in range(1,np.shape(data)[0]):\n",
    "    #print(i)\n",
    "    if data[i-1][5]<lst[j] and data[i][5]>lst[j]:\n",
    "        s[k][j]=data[i-1][6]\n",
    "        j=j+1\n",
    "        print(j,np.shape(lst)[0])\n",
    "        if(j>=np.shape(lst)[0]):\n",
    "            break"
   ]
  },
  {
   "cell_type": "code",
   "execution_count": 114,
   "metadata": {},
   "outputs": [
    {
     "name": "stdout",
     "output_type": "stream",
     "text": [
      "0 /rds/general/user/sdas5/home/EverpresentLambda/CST_Runs/CST_alpha_0.01_time_1/History_6098.d\n",
      "50 /rds/general/user/sdas5/home/EverpresentLambda/CST_Runs/CST_alpha_0.01_time_1/History_2312.d\n",
      "100 /rds/general/user/sdas5/home/EverpresentLambda/CST_Runs/CST_alpha_0.01_time_1/History_2734.d\n",
      "150 /rds/general/user/sdas5/home/EverpresentLambda/CST_Runs/CST_alpha_0.01_time_1/History_9297.d\n",
      "200 /rds/general/user/sdas5/home/EverpresentLambda/CST_Runs/CST_alpha_0.01_time_1/History_226.d\n",
      "250 /rds/general/user/sdas5/home/EverpresentLambda/CST_Runs/CST_alpha_0.01_time_1/History_8703.d\n",
      "300 /rds/general/user/sdas5/home/EverpresentLambda/CST_Runs/CST_alpha_0.01_time_1/History_6139.d\n",
      "350 /rds/general/user/sdas5/home/EverpresentLambda/CST_Runs/CST_alpha_0.01_time_1/History_169.d\n",
      "400 /rds/general/user/sdas5/home/EverpresentLambda/CST_Runs/CST_alpha_0.01_time_1/History_6446.d\n",
      "450 /rds/general/user/sdas5/home/EverpresentLambda/CST_Runs/CST_alpha_0.01_time_1/History_9005.d\n",
      "500 /rds/general/user/sdas5/home/EverpresentLambda/CST_Runs/CST_alpha_0.01_time_1/History_4553.d\n",
      "550 /rds/general/user/sdas5/home/EverpresentLambda/CST_Runs/CST_alpha_0.01_time_1/History_2317.d\n",
      "600 /rds/general/user/sdas5/home/EverpresentLambda/CST_Runs/CST_alpha_0.01_time_1/History_9613.d\n",
      "650 /rds/general/user/sdas5/home/EverpresentLambda/CST_Runs/CST_alpha_0.01_time_1/History_531.d\n",
      "700 /rds/general/user/sdas5/home/EverpresentLambda/CST_Runs/CST_alpha_0.01_time_1/History_663.d\n",
      "750 /rds/general/user/sdas5/home/EverpresentLambda/CST_Runs/CST_alpha_0.01_time_1/History_1230.d\n",
      "800 /rds/general/user/sdas5/home/EverpresentLambda/CST_Runs/CST_alpha_0.01_time_1/History_4514.d\n",
      "850 /rds/general/user/sdas5/home/EverpresentLambda/CST_Runs/CST_alpha_0.01_time_1/History_8634.d\n",
      "900 /rds/general/user/sdas5/home/EverpresentLambda/CST_Runs/CST_alpha_0.01_time_1/History_9111.d\n",
      "950 /rds/general/user/sdas5/home/EverpresentLambda/CST_Runs/CST_alpha_0.01_time_1/History_1955.d\n",
      "1000 /rds/general/user/sdas5/home/EverpresentLambda/CST_Runs/CST_alpha_0.01_time_1/History_225.d\n",
      "1050 /rds/general/user/sdas5/home/EverpresentLambda/CST_Runs/CST_alpha_0.01_time_1/History_1702.d\n",
      "1100 /rds/general/user/sdas5/home/EverpresentLambda/CST_Runs/CST_alpha_0.01_time_1/History_1566.d\n",
      "1150 /rds/general/user/sdas5/home/EverpresentLambda/CST_Runs/CST_alpha_0.01_time_1/History_2947.d\n",
      "1200 /rds/general/user/sdas5/home/EverpresentLambda/CST_Runs/CST_alpha_0.01_time_1/History_2492.d\n",
      "1250 /rds/general/user/sdas5/home/EverpresentLambda/CST_Runs/CST_alpha_0.01_time_1/History_8907.d\n",
      "1300 /rds/general/user/sdas5/home/EverpresentLambda/CST_Runs/CST_alpha_0.01_time_1/History_9640.d\n",
      "1350 /rds/general/user/sdas5/home/EverpresentLambda/CST_Runs/CST_alpha_0.01_time_1/History_7592.d\n",
      "1400 /rds/general/user/sdas5/home/EverpresentLambda/CST_Runs/CST_alpha_0.01_time_1/History_9072.d\n",
      "1450 /rds/general/user/sdas5/home/EverpresentLambda/CST_Runs/CST_alpha_0.01_time_1/History_8199.d\n",
      "1500 /rds/general/user/sdas5/home/EverpresentLambda/CST_Runs/CST_alpha_0.01_time_1/History_4564.d\n",
      "1550 /rds/general/user/sdas5/home/EverpresentLambda/CST_Runs/CST_alpha_0.01_time_1/History_4722.d\n",
      "1600 /rds/general/user/sdas5/home/EverpresentLambda/CST_Runs/CST_alpha_0.01_time_1/History_8764.d\n",
      "1650 /rds/general/user/sdas5/home/EverpresentLambda/CST_Runs/CST_alpha_0.01_time_1/History_2850.d\n",
      "1700 /rds/general/user/sdas5/home/EverpresentLambda/CST_Runs/CST_alpha_0.01_time_1/History_4495.d\n",
      "1750 /rds/general/user/sdas5/home/EverpresentLambda/CST_Runs/CST_alpha_0.01_time_1/History_1808.d\n",
      "1800 /rds/general/user/sdas5/home/EverpresentLambda/CST_Runs/CST_alpha_0.01_time_1/History_678.d\n",
      "1850 /rds/general/user/sdas5/home/EverpresentLambda/CST_Runs/CST_alpha_0.01_time_1/History_3386.d\n",
      "1900 /rds/general/user/sdas5/home/EverpresentLambda/CST_Runs/CST_alpha_0.01_time_1/History_4595.d\n",
      "1950 /rds/general/user/sdas5/home/EverpresentLambda/CST_Runs/CST_alpha_0.01_time_1/History_8133.d\n",
      "2000 /rds/general/user/sdas5/home/EverpresentLambda/CST_Runs/CST_alpha_0.01_time_1/History_6498.d\n",
      "2050 /rds/general/user/sdas5/home/EverpresentLambda/CST_Runs/CST_alpha_0.01_time_1/History_6026.d\n",
      "2100 /rds/general/user/sdas5/home/EverpresentLambda/CST_Runs/CST_alpha_0.01_time_1/History_8005.d\n",
      "2150 /rds/general/user/sdas5/home/EverpresentLambda/CST_Runs/CST_alpha_0.01_time_1/History_6044.d\n",
      "2200 /rds/general/user/sdas5/home/EverpresentLambda/CST_Runs/CST_alpha_0.01_time_1/History_6259.d\n",
      "2250 /rds/general/user/sdas5/home/EverpresentLambda/CST_Runs/CST_alpha_0.01_time_1/History_4598.d\n",
      "2300 /rds/general/user/sdas5/home/EverpresentLambda/CST_Runs/CST_alpha_0.01_time_1/History_3642.d\n",
      "2350 /rds/general/user/sdas5/home/EverpresentLambda/CST_Runs/CST_alpha_0.01_time_1/History_6010.d\n",
      "2400 /rds/general/user/sdas5/home/EverpresentLambda/CST_Runs/CST_alpha_0.01_time_1/History_6266.d\n",
      "2450 /rds/general/user/sdas5/home/EverpresentLambda/CST_Runs/CST_alpha_0.01_time_1/History_6512.d\n",
      "2500 /rds/general/user/sdas5/home/EverpresentLambda/CST_Runs/CST_alpha_0.01_time_1/History_1132.d\n",
      "2550 /rds/general/user/sdas5/home/EverpresentLambda/CST_Runs/CST_alpha_0.01_time_1/History_5041.d\n",
      "2600 /rds/general/user/sdas5/home/EverpresentLambda/CST_Runs/CST_alpha_0.01_time_1/History_4317.d\n",
      "2650 /rds/general/user/sdas5/home/EverpresentLambda/CST_Runs/CST_alpha_0.01_time_1/History_7844.d\n",
      "2700 /rds/general/user/sdas5/home/EverpresentLambda/CST_Runs/CST_alpha_0.01_time_1/History_6268.d\n",
      "2750 /rds/general/user/sdas5/home/EverpresentLambda/CST_Runs/CST_alpha_0.01_time_1/History_5270.d\n",
      "2800 /rds/general/user/sdas5/home/EverpresentLambda/CST_Runs/CST_alpha_0.01_time_1/History_2837.d\n",
      "2850 /rds/general/user/sdas5/home/EverpresentLambda/CST_Runs/CST_alpha_0.01_time_1/History_9420.d\n",
      "2900 /rds/general/user/sdas5/home/EverpresentLambda/CST_Runs/CST_alpha_0.01_time_1/History_6.d\n",
      "2950 /rds/general/user/sdas5/home/EverpresentLambda/CST_Runs/CST_alpha_0.01_time_1/History_2860.d\n",
      "3000 /rds/general/user/sdas5/home/EverpresentLambda/CST_Runs/CST_alpha_0.01_time_1/History_4314.d\n",
      "3050 /rds/general/user/sdas5/home/EverpresentLambda/CST_Runs/CST_alpha_0.01_time_1/History_638.d\n",
      "3100 /rds/general/user/sdas5/home/EverpresentLambda/CST_Runs/CST_alpha_0.01_time_1/History_8186.d\n",
      "3150 /rds/general/user/sdas5/home/EverpresentLambda/CST_Runs/CST_alpha_0.01_time_1/History_452.d\n",
      "3200 /rds/general/user/sdas5/home/EverpresentLambda/CST_Runs/CST_alpha_0.01_time_1/History_5401.d\n",
      "3250 /rds/general/user/sdas5/home/EverpresentLambda/CST_Runs/CST_alpha_0.01_time_1/History_6615.d\n",
      "3300 /rds/general/user/sdas5/home/EverpresentLambda/CST_Runs/CST_alpha_0.01_time_1/History_7929.d\n",
      "3350 /rds/general/user/sdas5/home/EverpresentLambda/CST_Runs/CST_alpha_0.01_time_1/History_6091.d\n",
      "3400 /rds/general/user/sdas5/home/EverpresentLambda/CST_Runs/CST_alpha_0.01_time_1/History_6962.d\n",
      "3450 /rds/general/user/sdas5/home/EverpresentLambda/CST_Runs/CST_alpha_0.01_time_1/History_1179.d\n",
      "3500 /rds/general/user/sdas5/home/EverpresentLambda/CST_Runs/CST_alpha_0.01_time_1/History_8340.d\n",
      "3550 /rds/general/user/sdas5/home/EverpresentLambda/CST_Runs/CST_alpha_0.01_time_1/History_544.d\n",
      "3600 /rds/general/user/sdas5/home/EverpresentLambda/CST_Runs/CST_alpha_0.01_time_1/History_9097.d\n",
      "3650 /rds/general/user/sdas5/home/EverpresentLambda/CST_Runs/CST_alpha_0.01_time_1/History_4372.d\n",
      "3700 /rds/general/user/sdas5/home/EverpresentLambda/CST_Runs/CST_alpha_0.01_time_1/History_8839.d\n",
      "3750 /rds/general/user/sdas5/home/EverpresentLambda/CST_Runs/CST_alpha_0.01_time_1/History_5578.d\n",
      "3800 /rds/general/user/sdas5/home/EverpresentLambda/CST_Runs/CST_alpha_0.01_time_1/History_522.d\n",
      "3850 /rds/general/user/sdas5/home/EverpresentLambda/CST_Runs/CST_alpha_0.01_time_1/History_2846.d\n",
      "3900 /rds/general/user/sdas5/home/EverpresentLambda/CST_Runs/CST_alpha_0.01_time_1/History_1866.d\n",
      "3950 /rds/general/user/sdas5/home/EverpresentLambda/CST_Runs/CST_alpha_0.01_time_1/History_621.d\n",
      "4000 /rds/general/user/sdas5/home/EverpresentLambda/CST_Runs/CST_alpha_0.01_time_1/History_4622.d\n",
      "4050 /rds/general/user/sdas5/home/EverpresentLambda/CST_Runs/CST_alpha_0.01_time_1/History_7448.d\n",
      "4100 /rds/general/user/sdas5/home/EverpresentLambda/CST_Runs/CST_alpha_0.01_time_1/History_2117.d\n",
      "4150 /rds/general/user/sdas5/home/EverpresentLambda/CST_Runs/CST_alpha_0.01_time_1/History_197.d\n",
      "4200 /rds/general/user/sdas5/home/EverpresentLambda/CST_Runs/CST_alpha_0.01_time_1/History_8075.d\n",
      "4250 /rds/general/user/sdas5/home/EverpresentLambda/CST_Runs/CST_alpha_0.01_time_1/History_3653.d\n",
      "4300 /rds/general/user/sdas5/home/EverpresentLambda/CST_Runs/CST_alpha_0.01_time_1/History_5373.d\n",
      "4350 /rds/general/user/sdas5/home/EverpresentLambda/CST_Runs/CST_alpha_0.01_time_1/History_9906.d\n",
      "4400 /rds/general/user/sdas5/home/EverpresentLambda/CST_Runs/CST_alpha_0.01_time_1/History_4231.d\n",
      "4450 /rds/general/user/sdas5/home/EverpresentLambda/CST_Runs/CST_alpha_0.01_time_1/History_9546.d\n",
      "4500 /rds/general/user/sdas5/home/EverpresentLambda/CST_Runs/CST_alpha_0.01_time_1/History_5742.d\n",
      "4550 /rds/general/user/sdas5/home/EverpresentLambda/CST_Runs/CST_alpha_0.01_time_1/History_6141.d\n",
      "4600 /rds/general/user/sdas5/home/EverpresentLambda/CST_Runs/CST_alpha_0.01_time_1/History_7537.d\n",
      "4650 /rds/general/user/sdas5/home/EverpresentLambda/CST_Runs/CST_alpha_0.01_time_1/History_1805.d\n",
      "4700 /rds/general/user/sdas5/home/EverpresentLambda/CST_Runs/CST_alpha_0.01_time_1/History_8095.d\n"
     ]
    }
   ],
   "source": [
    "s=np.zeros((np.shape(files)[0],np.shape(lst)[0]))\n",
    "k=0   # File Index\n",
    "for file in files:\n",
    "    data = np.loadtxt(file)\n",
    "    j=0\n",
    "    for i in range(1,np.shape(data)[0]):\n",
    "        #print(i)\n",
    "        if data[i-1][5]<lst[j] and data[i][5]>lst[j]:\n",
    "            s[k][j]=data[i-1][6]\n",
    "            j=j+1\n",
    "            if(j>=np.shape(lst)[0]):\n",
    "                break\n",
    "    if(np.mod(k,50) ==0):\n",
    "        print(k,file)\n",
    "    k=k+1"
   ]
  },
  {
   "cell_type": "code",
   "execution_count": 145,
   "metadata": {},
   "outputs": [],
   "source": [
    "std = np.zeros(15)\n",
    "np.shape(std)\n",
    "for i in range(0,15):\n",
    "    std[i] = np.std(s[:,i])"
   ]
  },
  {
   "cell_type": "code",
   "execution_count": 165,
   "metadata": {},
   "outputs": [
    {
     "data": {
      "text/plain": [
       "6.647955352042103e-09"
      ]
     },
     "execution_count": 165,
     "metadata": {},
     "output_type": "execute_result"
    }
   ],
   "source": [
    "h0 = 70.74\n",
    "rhocr = 2.7754e11 * 1.989e30 * pow(h0 / 100.0, 2)\n",
    "c2oG = 4.1553e+49\n",
    "mult = rhocr / c2oG\n",
    "mult"
   ]
  },
  {
   "cell_type": "code",
   "execution_count": 169,
   "metadata": {},
   "outputs": [
    {
     "data": {
      "text/plain": [
       "[<matplotlib.lines.Line2D at 0x154899e7a908>]"
      ]
     },
     "execution_count": 169,
     "metadata": {},
     "output_type": "execute_result"
    },
    {
     "data": {
      "image/png": "[encoded data removed]",
      "text/plain": [
       "<Figure size 432x288 with 1 Axes>"
      ]
     },
     "metadata": {
      "needs_background": "light"
     },
     "output_type": "display_data"
    }
   ],
   "source": [
    "plt.plot(1/np.sqrt(lst),mult*std/0.01)"
   ]
  },
  {
   "cell_type": "code",
   "execution_count": null,
   "metadata": {},
   "outputs": [],
   "source": []
  }
 ],
 "metadata": {
  "kernelspec": {
   "display_name": "Python 3",
   "language": "python",
   "name": "python3"
  },
  "language_info": {
   "codemirror_mode": {
    "name": "ipython",
    "version": 3
   },
   "file_extension": ".py",
   "mimetype": "text/x-python",
   "name": "python",
   "nbconvert_exporter": "python",
   "pygments_lexer": "ipython3",
   "version": "3.6.8"
  }
 },
 "nbformat": 4,
 "nbformat_minor": 2
}
